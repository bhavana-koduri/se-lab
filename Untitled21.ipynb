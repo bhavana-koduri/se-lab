{
  "nbformat": 4,
  "nbformat_minor": 0,
  "metadata": {
    "colab": {
      "provenance": [],
      "toc_visible": true,
      "authorship_tag": "ABX9TyOvIQtB4o9m+UV3fIH4RenL",
      "include_colab_link": true
    },
    "kernelspec": {
      "name": "python3",
      "display_name": "Python 3"
    },
    "language_info": {
      "name": "python"
    }
  },
  "cells": [
    {
      "cell_type": "markdown",
      "metadata": {
        "id": "view-in-github",
        "colab_type": "text"
      },
      "source": [
        "<a href=\"https://colab.research.google.com/github/bhavana-koduri/se-lab/blob/main/Untitled21.ipynb\" target=\"_parent\"><img src=\"https://colab.research.google.com/assets/colab-badge.svg\" alt=\"Open In Colab\"/></a>"
      ]
    },
    {
      "cell_type": "code",
      "source": [
        "# 1: Hard-coding Variables for Weather Modeling\n",
        "# Weather modeling using hardcoded values\n",
        "T = 30  # Temperature\n",
        "H = 50  # Humidity\n",
        "W = 10  # Wind speed\n",
        "\n",
        "# Quadratic solution\n",
        "weather_model = 0.5 * T**2 - 0.2 * H + 0.1 * W - 15\n",
        "print(f\"Weather modeling result (hardcoded values): {weather_model}\")\n",
        "\n",
        "# 2: Keyboard Input for Weather Modeling\n",
        "# Weather modeling using keyboard input\n",
        "T = float(input(\"Enter the temperature (T): \"))\n",
        "H = float(input(\"Enter the humidity (H): \"))\n",
        "W = float(input(\"Enter the wind speed (W): \"))\n",
        "\n",
        "# Quadratic solution\n",
        "weather_model = 0.5 * T**2 - 0.2 * H + 0.1 * W - 15\n",
        "print(f\"Weather modeling result (keyboard input): {weather_model}\")\n",
        "\n",
        "# 3: Reading from a File (Single Set of Input)\n",
        "# Input File (input.txt):\n",
        "# 30 50 10\n",
        "\n",
        "try:\n",
        "    with open(\"input.txt\", \"r\") as file:\n",
        "        data = file.readline().strip().split()\n",
        "        T, H, W = map(float, data)  # Parse temperature, humidity, wind speed\n",
        "\n",
        "    # Quadratic solution\n",
        "    weather_model = 0.5 * T**2 - 0.2 * H + 0.1 * W - 15\n",
        "    print(f\"Weather modeling result (file input, single set): {weather_model}\")\n",
        "except FileNotFoundError:\n",
        "    print(\"Error: 'input.txt' file not found. Please check the file path.\")\n",
        "\n",
        "# 4: Reading from a File (Multiple Sets of Inputs)\n",
        "# Input File (inputs.txt):\n",
        "# 30 50 10\n",
        "# 25 60 15\n",
        "# 35 40 20\n",
        "\n",
        "try:\n",
        "    with open(\"inputs.txt\", \"r\") as file:\n",
        "        lines = file.readlines()\n",
        "\n",
        "    # Process each line\n",
        "    for idx, line in enumerate(lines):\n",
        "        T, H, W = map(float, line.strip().split())\n",
        "        weather_model = 0.5 * T**2 - 0.2 * H + 0.1 * W - 15\n",
        "        print(f\"Weather modeling result (set {idx + 1}): {weather_model}\")\n",
        "except FileNotFoundError:\n",
        "    print(\"Error: 'inputs.txt' file not found. Please check the file path.\")\n",
        "\n",
        "# 5. Using a Loop for Multiple Inputs from Keyboard\n",
        "# Weather modeling using keyboard input for multiple sets\n",
        "num_sets = int(input(\"Enter the number of input sets: \"))\n",
        "\n",
        "for i in range(num_sets):\n",
        "    print(f\"\\nSet {i + 1}:\")\n",
        "    T = float(input(\"Enter the temperature (T): \"))\n",
        "    H = float(input(\"Enter the humidity (H): \"))\n",
        "    W = float(input(\"Enter the wind speed (W): \"))\n",
        "\n",
        "    # Quadratic solution\n",
        "    weather_model = 0.5 * T**2 - 0.2 * H + 0.1 * W - 15\n",
        "    print(f\"Weather modeling result (set {i + 1}): {weather_model}\")\n"
      ],
      "metadata": {
        "colab": {
          "base_uri": "https://localhost:8080/"
        },
        "id": "I_bdLAG4vaQ1",
        "outputId": "99a6848c-8402-47f4-a66d-40f018bd70aa"
      },
      "execution_count": 8,
      "outputs": [
        {
          "output_type": "stream",
          "name": "stdout",
          "text": [
            "Weather modeling result (hardcoded values): 426.0\n",
            "Enter the temperature (T): 30\n",
            "Enter the humidity (H): 50\n",
            "Enter the wind speed (W): 10\n",
            "Weather modeling result (keyboard input): 426.0\n",
            "Weather modeling result (file input, single set): 426.0\n",
            "Error: 'inputs.txt' file not found. Please check the file path.\n",
            "Enter the number of input sets: 2\n",
            "\n",
            "Set 1:\n",
            "Enter the temperature (T): 30\n",
            "Enter the humidity (H): 50\n",
            "Enter the wind speed (W): 10\n",
            "Weather modeling result (set 1): 426.0\n",
            "\n",
            "Set 2:\n",
            "Enter the temperature (T): 31\n",
            "Enter the humidity (H): 51\n",
            "Enter the wind speed (W): 11\n",
            "Weather modeling result (set 2): 456.40000000000003\n"
          ]
        }
      ]
    }
  ]
}